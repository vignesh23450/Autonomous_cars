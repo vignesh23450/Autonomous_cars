{
 "cells": [
  {
   "cell_type": "code",
   "execution_count": 1,
   "id": "69a09615",
   "metadata": {},
   "outputs": [
    {
     "name": "stdout",
     "output_type": "stream",
     "text": [
      "[WinError 2] The system cannot find the file specified: 'Advanced-Lane-Lines/'\n",
      "C:\\Users\\Vignesh\\atnomas_car\n"
     ]
    },
    {
     "name": "stderr",
     "output_type": "stream",
     "text": [
      "'git' is not recognized as an internal or external command,\n",
      "operable program or batch file.\n"
     ]
    }
   ],
   "source": [
    "!git clone https://github.com/Dt-Pham/Advanced-Lane-Lines.git\n",
    "%cd Advanced-Lane-Lines/"
   ]
  },
  {
   "cell_type": "code",
   "execution_count": 2,
   "id": "1fbcc1f3",
   "metadata": {},
   "outputs": [
    {
     "ename": "ModuleNotFoundError",
     "evalue": "No module named 'docopt'",
     "output_type": "error",
     "traceback": [
      "\u001b[1;31m---------------------------------------------------------------------------\u001b[0m",
      "\u001b[1;31mModuleNotFoundError\u001b[0m                       Traceback (most recent call last)",
      "Cell \u001b[1;32mIn[2], line 4\u001b[0m\n\u001b[0;32m      2\u001b[0m \u001b[38;5;28;01mimport\u001b[39;00m \u001b[38;5;21;01mmatplotlib\u001b[39;00m\u001b[38;5;21;01m.\u001b[39;00m\u001b[38;5;21;01mimage\u001b[39;00m \u001b[38;5;28;01mas\u001b[39;00m \u001b[38;5;21;01mmpimg\u001b[39;00m\n\u001b[0;32m      3\u001b[0m \u001b[38;5;28;01mimport\u001b[39;00m \u001b[38;5;21;01mcv2\u001b[39;00m\n\u001b[1;32m----> 4\u001b[0m \u001b[38;5;28;01mfrom\u001b[39;00m \u001b[38;5;21;01mdocopt\u001b[39;00m \u001b[38;5;28;01mimport\u001b[39;00m docopt\n\u001b[0;32m      5\u001b[0m \u001b[38;5;28;01mfrom\u001b[39;00m \u001b[38;5;21;01mIPython\u001b[39;00m\u001b[38;5;21;01m.\u001b[39;00m\u001b[38;5;21;01mdisplay\u001b[39;00m \u001b[38;5;28;01mimport\u001b[39;00m HTML\n\u001b[0;32m      6\u001b[0m \u001b[38;5;28;01mfrom\u001b[39;00m \u001b[38;5;21;01mIPython\u001b[39;00m\u001b[38;5;21;01m.\u001b[39;00m\u001b[38;5;21;01mcore\u001b[39;00m\u001b[38;5;21;01m.\u001b[39;00m\u001b[38;5;21;01mdisplay\u001b[39;00m \u001b[38;5;28;01mimport\u001b[39;00m Video\n",
      "\u001b[1;31mModuleNotFoundError\u001b[0m: No module named 'docopt'"
     ]
    }
   ],
   "source": [
    "import numpy as np\n",
    "import matplotlib.image as mpimg\n",
    "import cv2\n",
    "from docopt import docopt\n",
    "from IPython.display import HTML\n",
    "from IPython.core.display import Video\n",
    "from moviepy.editor import VideoFileClip\n",
    "from CameraCalibration import CameraCalibration\n",
    "from Thresholding import *\n",
    "from PerspectiveTransformation import *\n",
    "from LaneLines import *\n",
    "\n",
    "class FindLaneLines:\n",
    "    def __init__(self):\n",
    "        \"\"\" Init Application\"\"\"\n",
    "        self.calibration = CameraCalibration('camera_cal', 9, 6)\n",
    "        self.thresholding = Thresholding()\n",
    "        self.transform = PerspectiveTransformation()\n",
    "        self.lanelines = LaneLines()\n",
    "\n",
    "    def forward(self, img):\n",
    "        out_img = np.copy(img)\n",
    "        img = self.calibration.undistort(img)\n",
    "        img = self.transform.forward(img)\n",
    "        img = self.thresholding.forward(img)\n",
    "        img = self.lanelines.forward(img)\n",
    "        img = self.transform.backward(img)\n",
    "\n",
    "        out_img = cv2.addWeighted(out_img, 1, img, 0.6, 0)\n",
    "        out_img = self.lanelines.plot(out_img)\n",
    "        return out_img\n",
    "\n",
    "    def process_image(self, input_path, output_path):\n",
    "        img = mpimg.imread(input_path)\n",
    "        out_img = self.forward(img)\n",
    "        mpimg.imsave(output_path, out_img)\n",
    "\n",
    "    def process_video(self, input_path, output_path):\n",
    "        clip = VideoFileClip(input_path)\n",
    "        out_clip = clip.fl_image(self.forward)\n",
    "        out_clip.write_videofile(output_path, audio=False)\n",
    "\n",
    "def main():\n",
    "    findLaneLines = FindLaneLines()\n",
    "    findLaneLines.process_video(\"challenge_video.mp4\",\"output.mp4\")\n",
    "\n",
    "if __name__ == \"__main__\":\n",
    "    main()"
   ]
  },
  {
   "cell_type": "code",
   "execution_count": null,
   "id": "094b8839",
   "metadata": {},
   "outputs": [],
   "source": []
  }
 ],
 "metadata": {
  "kernelspec": {
   "display_name": "Python 3 (ipykernel)",
   "language": "python",
   "name": "python3"
  },
  "language_info": {
   "codemirror_mode": {
    "name": "ipython",
    "version": 3
   },
   "file_extension": ".py",
   "mimetype": "text/x-python",
   "name": "python",
   "nbconvert_exporter": "python",
   "pygments_lexer": "ipython3",
   "version": "3.10.9"
  }
 },
 "nbformat": 4,
 "nbformat_minor": 5
}
